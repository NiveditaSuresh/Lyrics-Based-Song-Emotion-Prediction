{
 "cells": [
  {
   "cell_type": "markdown",
   "metadata": {},
   "source": [
    "# NLP FINAL Project\n",
    "\n",
    "### Importing Packages"
   ]
  },
  {
   "cell_type": "code",
   "execution_count": 22,
   "metadata": {},
   "outputs": [],
   "source": [
    "import numpy as np \n",
    "import pandas as pd\n",
    "import string \n",
    "import nltk\n",
    "import re\n",
    "from bs4 import BeautifulSoup\n",
    "import requests\n",
    "from string import punctuation\n",
    "stopword = nltk.corpus.stopwords.words('english')\n",
    "from matplotlib.pyplot import subplot\n",
    "from matplotlib import pyplot as plt\n",
    "from matplotlib.pyplot import bar\n",
    "import itertools\n",
    "\n",
    "from sklearn import preprocessing\n",
    "from sklearn.feature_extraction.text import CountVectorizer\n",
    "from sklearn.feature_extraction.text import TfidfVectorizer\n",
    "from sklearn.linear_model import LogisticRegression\n",
    "from sklearn.ensemble import RandomForestClassifier\n",
    "from sklearn.svm import SVC\n",
    "from sklearn.naive_bayes import GaussianNB, BernoulliNB, MultinomialNB\n",
    "from sklearn.multiclass import OneVsRestClassifier\n",
    "from sklearn.model_selection import train_test_split\n",
    "from sklearn.model_selection import GridSearchCV\n",
    "\n",
    "from sklearn.metrics import accuracy_score\n",
    "from sklearn.metrics import recall_score\n",
    "from sklearn.metrics import precision_score\n",
    "from sklearn.metrics import confusion_matrix\n",
    "from sklearn.metrics import classification_report\n",
    "from sklearn.metrics import f1_score\n",
    "from sklearn.metrics import precision_recall_fscore_support\n",
    "\n",
    "wn = nltk.WordNetLemmatizer()\n",
    "le = preprocessing.LabelEncoder()\n",
    "C_vec = CountVectorizer()"
   ]
  },
  {
   "cell_type": "markdown",
   "metadata": {},
   "source": [
    "### Extracting Lyrics from Data"
   ]
  },
  {
   "cell_type": "code",
   "execution_count": null,
   "metadata": {},
   "outputs": [],
   "source": [
    "url = data.iloc[:,2]\n",
    "lyric_list = []\n",
    "for URL in url:\n",
    "    page = requests.get(URL)\n",
    "    html = BeautifulSoup(page.text, \"html.parser\") # Extract the page's HTML as a string\n",
    "\n",
    "    # Scrape the song lyrics from the HTML\n",
    "    lyrics = html.find(\"div\", class_=\"lyrics\").get_text()\n",
    "    lyric_list.append(lyrics)\n",
    "%store lyric_list"
   ]
  },
  {
   "cell_type": "code",
   "execution_count": 23,
   "metadata": {},
   "outputs": [
    {
     "name": "stdout",
     "output_type": "stream",
     "text": [
      "2022\n"
     ]
    }
   ],
   "source": [
    "%store -r lyric_list\n",
    "print(len(lyric_list))"
   ]
  },
  {
   "cell_type": "markdown",
   "metadata": {},
   "source": [
    "# BASELINE APPROACH"
   ]
  },
  {
   "cell_type": "code",
   "execution_count": null,
   "metadata": {},
   "outputs": [],
   "source": []
  },
  {
   "cell_type": "markdown",
   "metadata": {},
   "source": [
    "# PROJECT CODE"
   ]
  },
  {
   "cell_type": "markdown",
   "metadata": {},
   "source": [
    "### Importing File"
   ]
  },
  {
   "cell_type": "code",
   "execution_count": 24,
   "metadata": {},
   "outputs": [],
   "source": [
    "data = pd.read_csv('final_song_data.csv',delimiter=',',header =None)\n",
    "artist_name = data.iloc[:,0]\n",
    "song_name = data.iloc[:,1]\n",
    "data_set = [list(data_row) for data_row in zip(artist_name,song_name,lyric_list)]\n",
    "labels = le.fit_transform(data.iloc[:,3])\n",
    "n_classes=len(data.iloc[:,3].unique())"
   ]
  },
  {
   "cell_type": "markdown",
   "metadata": {},
   "source": [
    "### Pre-Processing Function for Train and Test"
   ]
  },
  {
   "cell_type": "code",
   "execution_count": 25,
   "metadata": {},
   "outputs": [],
   "source": [
    "def process_features(data_set):\n",
    "    \n",
    "    lyric_list_new = []\n",
    "    artist_name_new = []\n",
    "    song_name_new = []\n",
    "    chorus_list = []\n",
    "    verse_list = []\n",
    "    bridge_list = []\n",
    "    hook_list = []\n",
    "    intro_list = []\n",
    "    outro_list = []\n",
    "    song_length = []\n",
    "    for dat in data_set:\n",
    "        s = dat[2]\n",
    "        chorus_list.append(len(re.findall('\\[Chorus', s)))\n",
    "        verse_list.append(len(re.findall('\\[Verse', s)))\n",
    "        hook_list.append(len(re.findall('\\[Hook', s)))\n",
    "        bridge_list.append(len(re.findall('\\[Bridge', s)))\n",
    "        intro_list.append(len(re.findall('\\[Intro', s)))\n",
    "        outro_list.append(len(re.findall('\\[Outro', s)))\n",
    "\n",
    "        v = s.split(\"\\n\")\n",
    "        song_length.append(len(v))\n",
    "        for i in v:\n",
    "            d = re.sub(\"^\\[(.*)]\",\"\",i)\n",
    "            v[v.index(i)] = d\n",
    "        lyric_list_new.append(\"\\n\".join(v))       \n",
    "        \n",
    "        artist_name_new.append(dat[0])\n",
    "        song_name_new.append(dat[1])\n",
    "\n",
    "   \n",
    "    for element in range(1,len(lyric_list_new)): \n",
    "        \n",
    "        #LYRICS\n",
    "        lyric_list_new[element] =lyric_list_new[element].replace(\"'\",\" \")\n",
    "        lyric_list_new[element] = re.sub(r'[^\\w\\s]','',lyric_list_new[element])\n",
    "        lyric_list_new[element] = nltk.word_tokenize(lyric_list_new[element])\n",
    "        not_stopword_list = [word.lower() for word in lyric_list_new[element] if word.lower() not in stopword]\n",
    "        t = \" \".join([wn.lemmatize(word) for word in not_stopword_list])\n",
    "        lyric_list_new[element]=t\n",
    "        \n",
    "        #ARTIST\n",
    "        artist_name_new[element] =artist_name_new[element].replace(\",\",\"\")\n",
    "        artist_name_new[element] =artist_name_new[element].replace(\"&\",\"\")\n",
    "\n",
    "        \n",
    "        #SONG TITLE\n",
    "        song_name_new[element] =song_name_new[element].replace(\"'\",\" \")\n",
    "        song_name_new[element] = re.sub(r'[^\\w\\s]','',song_name_new[element])\n",
    "        song_name_new[element] = nltk.word_tokenize(song_name_new[element])\n",
    "        not_stopword_list = [word.lower() for word in song_name_new[element] if word.lower() not in stopword]\n",
    "        t = \" \".join([wn.lemmatize(word) for word in not_stopword_list])\n",
    "        song_name_new[element]=t\n",
    "        \n",
    "    data_set_new = [artist_name_new,song_name_new,lyric_list_new]\n",
    "    lyric_all = np.vstack((np.array(chorus_list),np.array(verse_list),np.array(bridge_list),np.array(hook_list),np.array(intro_list),np.array(outro_list),np.array(song_length)))\n",
    "    lyric_all = np.transpose(lyric_all)\n",
    "    return data_set_new,lyric_all"
   ]
  },
  {
   "cell_type": "markdown",
   "metadata": {},
   "source": [
    "### Train-Test split"
   ]
  },
  {
   "cell_type": "code",
   "execution_count": 26,
   "metadata": {},
   "outputs": [],
   "source": [
    "x_train, x_test, y_train, y_test = train_test_split(data_set,labels, train_size=0.8,test_size = 0.2)\n",
    "\n",
    "#Training Set \n",
    "dataset_train_sub,feat_add_train = process_features(x_train)\n",
    "artist_train_sub = dataset_train_sub[0]\n",
    "song_title_train_sub = dataset_train_sub[1]\n",
    "lyric_train_sub = dataset_train_sub[2]\n",
    "lyric_train_label = y_train\n",
    "\n",
    "\n",
    "#Test set \n",
    "dataset_test_sub,feat_add_test = process_features(x_test)\n",
    "artist_test_sub = dataset_test_sub[0]\n",
    "song_title_test_sub = dataset_test_sub[1]\n",
    "lyric_test_sub = dataset_test_sub[2]\n",
    "lyric_test_label = y_test"
   ]
  },
  {
   "cell_type": "markdown",
   "metadata": {},
   "source": [
    "### Feature Extraction\n",
    "##### Bag Of Words Approach"
   ]
  },
  {
   "cell_type": "code",
   "execution_count": 27,
   "metadata": {},
   "outputs": [
    {
     "name": "stdout",
     "output_type": "stream",
     "text": [
      "['182', '1910', '1910 fruitgum', '1910 fruitgum company', '1975', '21', '21 savage', '21 savage and', '21 savage offset', '2pac', '50', '50 cent', '52s', '6ix9ine', '6lack', 'ab', 'ab soul', 'abstract', 'accept', 'action', 'action bronson', 'adele', 'after', 'after sex', 'again', 'against', 'against the', 'against the machine', 'aiko', 'ajr', 'alan', 'alan walker', 'alessia', 'alessia cara', 'allred', 'aloe', 'aloe blacc', 'alpert', 'alt', 'am', 'amine', 'amsterdam', 'amy', 'amy winehouse', 'and', 'and anne', 'and anne marie', 'and balvin', 'and beyonce', 'and camila', 'and camila cabello', 'and cardi', 'and coldplay', 'and crazy', 'and crazy horse', 'and damian', 'and damian marley', 'and david', 'and david guetta', 'and drake', 'and dua', 'and dua lipa', 'and emily', 'and emily warren', 'and eminem', 'and fire', 'and future', 'and garfunkel', 'and grey', 'and guy', 'and guy sebastian', 'and halsey', 'and james', 'and james blake', 'and kanye', 'and kanye west', 'and kehlani', 'and kendrick', 'and kendrick lamar', 'and khalid', 'and kolacny', 'and kolacny brothers', 'and kris', 'and kris kross', 'and lil', 'and lil pump', 'and lil tracy', 'and linkin', 'and linkin park', 'and louis', 'and louis tomlinson', 'and marshmello', 'and mary', 'and mary chain', 'and metro', 'and metro boomin', 'and michael', 'and michael jackson', 'and nicki', 'and nicki minaj', 'and remy', 'and remy ma', 'and rick', 'and rick ross', 'and rihanna', 'and rita', 'and rita ora', 'and ryan', 'and ryan lewis', 'and selena', 'and selena gomez', 'and teo', 'and the', 'and the animals', 'and the attractions', 'and the furious', 'and the lightning', 'and the mechanics', 'and the social', 'and the stooges', 'and tyga', 'and vinz', 'and wiz', 'and wiz khalifa', 'animals', 'anne', 'anne marie', 'aoki', 'aoki and', 'aoki and louis', 'archies', 'arctic', 'arctic monkeys', 'ariana', 'ariana grande', 'ariana grande and', 'arthur', 'asap', 'asap ferg', 'asap mob', 'asap rocky', 'at', 'at the', 'at the disco', 'atari', 'atari teenage', 'atari teenage riot', 'atb', 'attractions', 'avicii', 'axwell', 'axwell ingrosso', 'ayo', 'ayo and', 'ayo and teo', 'azalea', 'azealia', 'azealia banks', 'baby', 'baby and', 'baby and drake', 'backstreet', 'backstreet boys', 'bacon', 'bacon grits', 'bad', 'bad brains', 'bad bunny', 'bad bunny and', 'bad meets', 'bad meets evil', 'baddiel', 'baddiel skinner', 'baddiel skinner and', 'balvin', 'bandit', 'bangles', 'bangz', 'banks', 'barry', 'barry mcguire', 'bassy', 'bastille', 'battalion', 'battles', 'battles of', 'battles of history', 'beach', 'beach boys', 'beastie', 'beastie boys', 'beatles', 'bebe', 'bebe rexha', 'bellion', 'ben', 'ben folds', 'ben folds five', 'benny', 'benny blanco', 'beyonce', 'bhabie', 'bhad', 'bhad bhabie', 'bieber', 'big', 'big sean', 'big shaq', 'big world', 'billie', 'billie eilish', 'billie eilish and', 'billy', 'billy joel', 'billy straus', 'bizarre', 'bizkit', 'blacc', 'black', 'black flag', 'black hippy', 'blackbear', 'blackstreet', 'blake', 'blanco', 'bleu', 'blink', 'blink 182', 'blocboy', 'blocboy jb', 'blue', 'blue cheer', 'bo', 'bo burnham', 'bob', 'bob dylan', 'bobby', 'bobby shmurda', 'bon', 'bon iver', 'bone', 'bone thugs', 'bone thugs harmony', 'boogie', 'boogie wit', 'boogie wit da', 'boomin', 'boomtown', 'boomtown rats', 'bowie', 'boy', 'boys', 'brains', 'brian', 'brinsley', 'brinsley schwarz', 'broadway', 'broadway cast', 'broadway cast of', 'brockhampton', 'broke', 'broke again', 'bronson', 'brothers', 'brown', 'brown and', 'brown and tyga', 'bruce', 'bruce springsteen', 'bruno', 'bruno mars', 'bryson', 'bryson tiller', 'buckley', 'buffett', 'bunny', 'bunny and', 'bunny and balvin', 'burdon', 'burdon and', 'burdon and the', 'burnham', 'cab', 'cab for', 'cab for cutie', 'cabello', 'caesar', 'cage', 'called', 'called quest', 'calum', 'calum scott', 'calvin', 'calvin harris', 'calvin harris and', 'cam', 'camila', 'camila cabello', 'camp', 'capaldi', 'cara', 'cardi', 'cardi bad', 'cardi bad bunny', 'carey', 'carters', 'carti', 'cash', 'cast', 'cast of', 'cast of dear', 'cat', 'cent', 'chain', 'chainsmokers', 'chainsmokers and', 'chainsmokers and coldplay', 'chainz', 'chainz and', 'chainz and wiz', 'chance', 'chance the', 'chance the rapper', 'charli', 'charli xcx', 'charlie', 'charlie puth', 'cheat', 'cheat codes', 'cheat codes and', 'cheer', 'chief', 'chief keef', 'childish', 'childish gambino', 'chili', 'chili peppers', 'chris', 'chris brown', 'chris brown and', 'chris isaak', 'chris stapleton', 'christina', 'christina perri', 'christmas', 'christmas songs', 'christopher', 'cigarettes', 'cigarettes after', 'cigarettes after sex', 'city', 'city jr', 'clan', 'clapton', 'clash', 'clean', 'clean bandit', 'clement', 'club', 'club up', 'club up thugs', 'cnco', 'codes', 'codes and', 'codes and kris', 'cohen', 'coldplay', 'cole', 'colerick', 'company', 'control', 'coolio', 'costello', 'costello and', 'costello and the', 'county', 'cowsills', 'crazy', 'crazy horse', 'creator', 'crystals', 'cube', 'cudi', 'curry', 'cutie', 'cyndi', 'cyndi lauper', 'cyrus', 'da', 'da club', 'da club up', 'da hoodie', 'daddy', 'daft', 'daft punk', 'damian', 'damian marley', 'damian rice', 'damned', 'daniel', 'daniel caesar', 'danny', 'danny brown', 'dave', 'david', 'david bowie', 'david guetta', 'davido', 'dawg', 'dawg entertainment', 'day', 'dead', 'dead kennedys', 'dean', 'dean lewis', 'dean martin', 'dear', 'dear evan', 'dear evan hansen', 'death', 'death cab', 'death cab for', 'deep', 'deep purple', 'dej', 'dej loaf', 'del', 'del rey', 'demi', 'demi lovato', 'denzel', 'denzel curry', 'derulo', 'desiigner', 'dicky', 'diplo', 'disco', 'disney', 'disney records', 'dj', 'dj khaled', 'dj snake', 'dmc', 'dnce', 'dogg', 'doja', 'doja cat', 'doll', 'dolla', 'dolla sign', 'dolly', 'dolly parton', 'domino', 'don', 'don mclean', 'donnie', 'donnie trumpet', 'donnie trumpet and', 'doors', 'dorsey', 'down', 'dr', 'dr dre', 'dragons', 'drake', 'drake and', 'drake and future', 'drake and michael', 'drake kanye', 'drake kanye west', 'dram', 'dre', 'dro', 'dua', 'dua lipa', 'durk', 'dylan', 'eagles', 'earl', 'earl jean', 'earl sweatshirt', 'earlwolf', 'earth', 'earth wind', 'earth wind and', 'eazy', 'eazy and', 'eazy and halsey', 'eazy and kehlani', 'ed', 'ed sheeran', 'ed sheeran and', 'eden', 'efron', 'eggs', 'eggs bacon', 'eggs bacon grits', 'eilish', 'eilish and', 'eilish and khalid', 'elisa', 'ellie', 'ellie goulding', 'elliott', 'elton', 'elton john', 'elvis', 'elvis costello', 'elvis costello and', 'elvis presley', 'emily', 'emily warren', 'eminem', 'emma', 'emma watson', 'enemy', 'entertainment', 'entombed', 'enya', 'epic', 'epic rap', 'epic rap battles', 'eric', 'eric burdon', 'eric burdon and', 'eric clapton', 'evan', 'evan hansen', 'evanescence', 'evil', 'ex', 'ex battalion', 'experience', 'experiment', 'fabolous', 'faces', 'fat', 'fat joe', 'fat joe and', 'fats', 'fats domino', 'fear', 'ferg', 'fetty', 'fetty wap', 'fiasco', 'fiasco and', 'fiasco and guy', 'fighters', 'fine', 'fine frenzy', 'fire', 'five', 'fka', 'fka twigs', 'flag', 'flash', 'flash and', 'flash and the', 'flatbush', 'flatbush zombies', 'fleetwood', 'fleetwood mac', 'floyd', 'flume', 'folds', 'folds five', 'foo', 'foo fighters', 'for', 'for cutie', 'fort', 'fort minor', 'foster', 'foster the', 'foster the people', 'francis', 'francis scott', 'francis scott key', 'frank', 'frank ocean', 'frank sinatra', 'fray', 'french', 'french montana', 'frenship', 'frenship and', 'frenship and emily', 'frenzy', 'frou', 'frou frou', 'fruitgum', 'fruitgum company', 'fugazi', 'fugees', 'fun', 'furious', 'furious five', 'future', 'future and', 'future and james', 'gaga', 'gambino', 'game', 'gang', 'garfunkel', 'garrix', 'garrix and', 'garrix and david', 'garrix and dua', 'gary', 'gary jules', 'gates', 'gemini', 'genasis', 'girls', 'glenn', 'glenn miller', 'gnash', 'god', 'goldlink', 'gomez', 'gomez and', 'gomez and marshmello', 'gorillaz', 'gosling', 'gotti', 'gotye', 'goulding', 'grace', 'graham', 'graham parker', 'grande', 'grande and', 'grande and nicki', 'grandmaster', 'grandmaster flash', 'grandmaster flash and', 'great', 'great big', 'great big world', 'green', 'green day', 'grey', 'grits', 'grizzley', 'groban', 'gucci', 'gucci mane', 'guetta', 'gun', 'gun kelly', 'gun kelly and', 'guy', 'guy sebastian', 'ha', 'hailee', 'hailee steinfeld', 'hailee steinfeld and', 'halsey', 'hank', 'hank williams', 'hansen', 'harmony', 'harpers', 'harpers bizarre', 'harris', 'harris and', 'harris and dua', 'harry', 'harry styles', 'helmet', 'hendrix', 'hendrix experience', 'herb', 'herb alpert', 'herbo', 'hilfigerrr', 'hill', 'hippy', 'history', 'hole', 'homie', 'homie quan', 'hoodie', 'hopsin', 'horan', 'horse', 'hot', 'hot chili', 'hot chili peppers', 'houston', 'hozier', 'hrvy', 'hugh', 'hugh jackman', 'ice', 'ice cube', 'iggy', 'iggy and', 'iggy and the', 'iggy azalea', 'ilovemakonnen', 'ilovememphis', 'imagine', 'imagine dragons', 'impala', 'inch', 'inch nails', 'ingrosso', 'ink', 'iron', 'iron maiden', 'isaak', 'isaiah', 'isaiah rashad', 'it', 'iver', 'jackman', 'jackson', 'jaden', 'jaden smith', 'jake', 'jake paul', 'jam', 'james', 'james arthur', 'james blake', 'janelle', 'janelle monae', 'jasmin', 'jasmin walia', 'jason', 'jason derulo', 'jason mraz', 'jax', 'jax jones', 'jay', 'jay and', 'jay and kanye', 'jay and linkin', 'jay rock', 'jay rock kendrick', 'jb', 'jean', 'jeff', 'jeff buckley', 'jemaine', 'jemaine clement', 'jeremih', 'jessie', 'jessie ariana', 'jessie ariana grande', 'jesus', 'jesus and', 'jesus and mary', 'jewels', 'jhene', 'jhene aiko', 'jidenna', 'jim', 'jim colerick', 'jimi', 'jimi hendrix', 'jimi hendrix experience', 'jimmy', 'jimmy buffett', 'jme', 'joe', 'joe and', 'joe and remy', 'joel', 'john', 'john legend', 'john sebastian', 'johnny', 'johnny cash', 'joji', 'jon', 'jon bellion', 'jonas', 'jonas blue', 'jones', 'jordan', 'josh', 'josh groban', 'joy', 'joyner', 'joyner lucas', 'jr', 'juice', 'juice wrld', 'juicy', 'jules', 'julia', 'julia michaels', 'justin', 'justin bieber', 'justin timberlake', 'kanye', 'kanye west', 'kanye west and', 'kanye west lil', 'kash', 'kash doll', 'katy', 'katy perry', 'keef', 'kehlani', 'kelly', 'kelly and', 'kelly and camila', 'kendrick', 'kendrick lamar', 'kendrick lamar future', 'kennedys', 'kesha', 'kevin', 'kevin gates', 'key', 'khaled', 'khalid', 'khalifa', 'kid', 'kid cudi', 'kid ink', 'kiiara', 'kinks', 'kirko', 'kirko bangz', 'knight', 'knight jasmin', 'knight jasmin walia', 'knockerz', 'kodak', 'kodak black', 'kolacny', 'kolacny brothers', 'korn', 'kreayshawn', 'kris', 'kris kross', 'kris kross amsterdam', 'kross', 'kross amsterdam', 'kygo', 'kygo and', 'kygo and selena', 'la', 'la la', 'la la land', 'la land', 'la land cast', 'labrinth', 'lady', 'lady gaga', 'lady peace', 'lamar', 'lamar future', 'lamar future and', 'lana', 'lana del', 'lana del rey', 'lance', 'land', 'land cast', 'lany', 'lauper', 'lauryn', 'lauryn hill', 'lean', 'led', 'led zeppelin', 'lee', 'lee dorsey', 'legend', 'leonard', 'leonard cohen', 'lewis', 'lewis capaldi', 'liam', 'liam payne', 'liam payne and', 'lightning', 'lightning seeds', 'lil', 'lil baby', 'lil baby and', 'lil dicky', 'lil durk', 'lil peep', 'lil peep and', 'lil pump', 'lil skies', 'lil tracy', 'lil uzi', 'lil uzi vert', 'lil wayne', 'lil wayne and', 'lil yachty', 'limp', 'limp bizkit', 'lin', 'lin manuel', 'lin manuel miranda', 'linkin', 'linkin park', 'lipa', 'loaf', 'logan', 'logan paul', 'logic', 'lorde', 'loren', 'loren allred', 'lot', 'louis', 'louis jordan', 'louis tomlinson', 'lovato', 'loverance', 'lovin', 'lovin spoonful', 'lowry', 'lucas', 'lukas', 'lukas graham', 'luke', 'luke christopher', 'lund', 'luniz', 'lupe', 'lupe fiasco', 'lupe fiasco and', 'ma', 'mac', 'mac miller', 'machine', 'machine gun', 'machine gun kelly', 'macklemore', 'macklemore and', 'macklemore and ryan', 'maco', 'made', 'made it', 'madeintyo', 'maiden', 'major', 'major lance', 'malone', 'man', 'mane', 'manuel', 'manuel miranda', 'marc', 'marc bassy', 'maren', 'maren morris', 'maren morris grey', 'mariah', 'mariah carey', 'marie', 'mark', 'mark ronson', 'marley', 'maroon', 'mars', 'marshmello', 'marshmello and', 'marshmello and anne', 'martin', 'martin garrix', 'martin garrix and', 'mary', 'mary chain', 'masa', 'mask', 'mask the', 'mask the slump', 'max', 'mc5', 'mccoys', 'mcguire', 'mclachlan', 'mclean', 'mechanics', 'meek', 'meek mill', 'meets', 'meets evil', 'meghan', 'meghan trainor', 'mendes', 'metallica', 'metro', 'metro boomin', 'mia', 'michael', 'michael jackson', 'michaels', 'migos', 'migos nicki', 'migos nicki minaj', 'miguel', 'mike', 'mike and', 'mike and the', 'mike posner', 'mike will', 'mike will made', 'miley', 'miley cyrus', 'mill', 'miller', 'minaj', 'minaj and', 'minaj and cardi', 'ministry', 'minor', 'minor threat', 'miranda', 'misfits', 'missy', 'missy elliott', 'mix', 'mix lot', 'mob', 'mobb', 'mobb deep', 'monae', 'money', 'monkees', 'monkeys', 'montana', 'morris', 'morris grey', 'motorhead', 'mouth', 'mr', 'mr probz', 'mraz', 'mudhoney', 'mura', 'mura masa', 'n9ne', 'nahmir', 'naija', 'nails', 'nas', 'nas and', 'nas and damian', 'naughty', 'naughty boy', 'nav', 'nav and', 'nav and metro', 'neighbourhood', 'neiked', 'neil', 'neil young', 'neil young and', 'nerd', 'nerd and', 'nerd and rihanna', 'never', 'never broke', 'never broke again', 'nf', 'niall', 'niall horan', 'nickelback', 'nicki', 'nicki minaj', 'nicki minaj and', 'nico', 'nico and', 'nico and vinz', 'nina', 'nina simone', 'nine', 'nine inch', 'nine inch nails', 'nirvana', 'notorious', 'notorious big', 'nwa', 'oasis', 'ocean', 'oconnor', 'odd', 'odd future', 'of', 'of dear', 'of dear evan', 'of down', 'of history', 'of summer', 'offset', 'offset and', 'offset and metro', 'og', 'og maco', 'omarion', 'one', 'one pilots', 'onerepublic', 'onyx', 'ora', 'orange', 'orange county', 'original', 'original broadway', 'original broadway cast', 'ot', 'ot genasis', 'our', 'our lady', 'our lady peace', 'outkast', 'panic', 'panic at', 'panic at the', 'pantera', 'parachute', 'paramore', 'park', 'parker', 'parton', 'partynextdoor', 'passenger', 'pastor', 'pastor jim', 'pastor jim colerick', 'patrol', 'paul', 'payne', 'payne and', 'payne and rita', 'peace', 'pearl', 'pearl jam', 'peep', 'peep and', 'peep and lil', 'people', 'peppers', 'pernice', 'pernice brothers', 'perri', 'perry', 'pharrell', 'pharrell williams', 'pilots', 'pink', 'pink floyd', 'pink guy', 'pistols', 'pixies', 'plain', 'plain white', 'plain white ts', 'platten', 'playboi', 'playboi carti', 'pnb', 'pnb rock', 'portugal', 'portugal the', 'portugal the man', 'posner', 'post', 'post malone', 'preme', 'presley', 'pretenders', 'probz', 'prodigy', 'ptaf', 'public', 'public enemy', 'puff', 'puff daddy', 'pump', 'punk', 'purple', 'pusha', 'puth', 'quality', 'quality control', 'quan', 'que', 'queen', 'queen naija', 'quest', 'quiet', 'quiet riot', 'rachel', 'rachel platten', 'radiohead', 'rae', 'rae sremmurd', 'rage', 'rage against', 'rage against the', 'ramz', 'rap', 'rap battles', 'rap battles of', 'rapper', 'rashad', 'rats', 'ray', 'rbe', 'rebecca', 'rebecca sugar', 'records', 'red', 'red hot', 'red hot chili', 'regina', 'regina spektor', 'remy', 'remy ma', 'renae', 'rex', 'rex orange', 'rex orange county', 'rexha', 'rey', 'rice', 'ricegum', 'rich', 'rich brian', 'rich gang', 'rich homie', 'rich homie quan', 'rich the', 'rich the kid', 'rick', 'rick ross', 'righteous', 'righteous brothers', 'rihanna', 'riot', 'rita', 'rita ora', 'rob', 'rob stone', 'robbie', 'robbie williams', 'rock', 'rock kendrick', 'rock kendrick lamar', 'rocko', 'rocky', 'ronson', 'ross', 'rudimental', 'run', 'run dmc', 'run the', 'run the jewels', 'russ', 'rusty', 'rusty cage', 'ruth', 'ryan', 'ryan gosling', 'ryan lewis', 'sage', 'sage the', 'sage the gemini', 'salvato', 'sam', 'sam smith', 'sarah', 'sarah mclachlan', 'savage', 'savage and', 'savage and metro', 'savage offset', 'savage offset and', 'saweetie', 'scala', 'scala and', 'scala and kolacny', 'schoolboy', 'schwarz', 'scott', 'scott key', 'sean', 'sebastian', 'seconds', 'seconds of', 'seconds of summer', 'seeds', 'selena', 'selena gomez', 'selena gomez and', 'sevyn', 'sevyn streeter', 'sex', 'sex pistols', 'shaggy', 'shaq', 'shawn', 'shawn mendes', 'sheeran', 'sheeran and', 'sheeran and beyonce', 'shmurda', 'sia', 'sign', 'simon', 'simon and', 'simon and garfunkel', 'simone', 'sinatra', 'sinead', 'sinead oconnor', 'sir', 'sir mix', 'sir mix lot', 'sivan', 'ski', 'ski mask', 'ski mask the', 'skies', 'skinner', 'skinner and', 'skinner and the', 'skrillex', 'skrillex and', 'skrillex and rick', 'slim', 'slim jesus', 'slump', 'slump god', 'small', 'small faces', 'smash', 'smash mouth', 'smith', 'snake', 'snakehips', 'snoop', 'snoop dogg', 'snow', 'snow patrol', 'sob', 'sob rbe', 'social', 'social experiment', 'solange', 'songs', 'sonics', 'soul', 'soulja', 'soulja boy', 'speaker', 'speaker knockerz', 'spektor', 'spice', 'spice girls', 'spoonful', 'springsteen', 'sremmurd', 'standells', 'staples', 'stapleton', 'starley', 'steinfeld', 'steinfeld and', 'steinfeld and grey', 'steve', 'steve aoki', 'steve aoki and', 'stevie', 'stevie wonder', 'stone', 'stooges', 'stormzy', 'straus', 'streeter', 'styles', 'sugar', 'summer', 'sweatshirt', 'swift', 'sydney', 'sydney renae', 'system', 'system of', 'system of down', 'sza', 'tame', 'tame impala', 'tang', 'tang clan', 'tay', 'taylor', 'taylor swift', 'team', 'team salvato', 'tear', 'tear da', 'tear da club', 'tech', 'tech n9ne', 'tee', 'tee grizzley', 'teenage', 'teenage riot', 'temper', 'temper trap', 'temptations', 'teo', 'the', 'the 1975', 'the 52s', 'the animals', 'the archies', 'the attractions', 'the beach', 'the beach boys', 'the beatles', 'the carters', 'the chainsmokers', 'the chainsmokers and', 'the clash', 'the cowsills', 'the creator', 'the crystals', 'the damned', 'the disco', 'the doors', 'the fray', 'the furious', 'the furious five', 'the game', 'the gemini', 'the jackson', 'the jam', 'the jesus', 'the jesus and', 'the jewels', 'the jimi', 'the jimi hendrix', 'the kid', 'the kinks', 'the lightning', 'the lightning seeds', 'the lovin', 'the lovin spoonful', 'the machine', 'the man', 'the mccoys', 'the mechanics', 'the monkees', 'the neighbourhood', 'the notorious', 'the notorious big', 'the people', 'the prodigy', 'the rapper', 'the slump', 'the slump god', 'the social', 'the social experiment', 'the sonics', 'the standells', 'the stooges', 'the temper', 'the temper trap', 'the temptations', 'the turtles', 'the verve', 'the weeknd', 'the weeknd and', 'the who', 'threat', 'thug', 'thug travis', 'thug travis scott', 'thugs', 'thugs harmony', 'ti', 'tiller', 'timberlake', 'tinashe', 'tink', 'tlc', 'tomlinson', 'top', 'top dawg', 'top dawg entertainment', 'toto', 'tracy', 'trainor', 'trap', 'travis', 'travis scott', 'tribe', 'tribe called', 'tribe called quest', 'trinidad', 'trinidad james', 'troye', 'troye sivan', 'trumpet', 'trumpet and', 'trumpet and the', 'ts', 'turtles', 'twenty', 'twenty one', 'twenty one pilots', 'twigs', 'ty', 'ty dolla', 'ty dolla sign', 'tyga', 'tyler', 'tyler the', 'tyler the creator', 'u2', 'ugk', 'ugly', 'ugly god', 'up', 'up thugs', 'usher', 'uzi', 'uzi vert', 'vampire', 'vampire weekend', 'vance', 'vance joy', 'vert', 'verve', 'vince', 'vince staples', 'vinz', 'wale', 'walia', 'walker', 'walt', 'walt disney', 'walt disney records', 'wap', 'warren', 'watsky', 'watson', 'wayne', 'wayne and', 'wayne and eminem', 'weekend', 'weeknd', 'weeknd and', 'weeknd and kendrick', 'weezer', 'west', 'west and', 'west and lil', 'west lil', 'west lil wayne', 'white', 'white ts', 'whitney', 'whitney houston', 'who', 'will', 'will am', 'will made', 'will made it', 'williams', 'wind', 'wind and', 'wind and fire', 'winehouse', 'wit', 'wit da', 'wit da hoodie', 'witt', 'witt lowry', 'wiz', 'wiz khalifa', 'wonder', 'world', 'wrld', 'wu', 'wu tang', 'wu tang clan', 'xcx', 'xxxtentacion', 'yachty', 'ybn', 'ybn nahmir', 'yelawolf', 'yg', 'yo', 'yo gotti', 'young', 'young and', 'young and crazy', 'young dro', 'young money', 'young thug', 'young thug travis', 'youngboy', 'youngboy never', 'youngboy never broke', 'yung', 'yung bleu', 'yung lean', 'zac', 'zac efron', 'zack', 'zack knight', 'zack knight jasmin', 'zaifman', 'zay', 'zay hilfigerrr', 'zayn', 'zayn taylor', 'zayn taylor swift', 'zedd', 'zedd alessia', 'zedd alessia cara', 'zedd maren', 'zedd maren morris', 'zeppelin', 'ziv', 'ziv zaifman', 'zombies']\n",
      "['03', '10', '11', '1night', '20', '21', '23', '26', '27', '28', '29', '30', '33', '37', '39', 'aint', 'alive', 'alright', 'always', 'america', 'american', 'angel', 'anthem', 'as', 'as bitch', 'ask', 'away', 'baby', 'back', 'bad', 'bad blood', 'bag', 'ball', 'bandz', 'bandz make', 'bang', 'barbie', 'bass', 'battle', 'beat', 'beautiful', 'believe', 'believer', 'best', 'best friend', 'bet', 'better', 'beyonce', 'big', 'bitch', 'bitch dont', 'black', 'blessing', 'blood', 'blow', 'blue', 'bobby', 'bomb', 'bos', 'bos as', 'bounce', 'boy', 'bridge', 'bring', 'broken', 'burning', 'butter', 'buy', 'cabinet', 'cabinet battle', 'cake', 'california', 'call', 'candy', 'cant', 'car', 'care', 'castle', 'change', 'chloraseptic', 'chop', 'church', 'city', 'close', 'closer', 'club', 'codeine', 'cold', 'color', 'come', 'commandment', 'compton', 'control', 'crack', 'cry', 'cut', 'cypher', 'da', 'dance', 'dancing', 'danny', 'danny glover', 'dark', 'dat', 'day', 'dead', 'deep', 'deja', 'deja vu', 'devil', 'diamond', 'die', 'dirty', 'dive', 'done', 'dont', 'dont care', 'dont kill', 'dont like', 'dont tell', 'dont wan', 'doo', 'door', 'drank', 'dre', 'dream', 'dress', 'drip', 'drop', 'drug', 'drunk', 'drunk love', 'dy', 'dying', 'earned', 'east', 'em', 'end', 'enough', 'everybody', 'everybody dy', 'everyday', 'everything', 'eye', 'face', 'fall', 'family', 'far', 'fast', 'fear', 'feel', 'feeling', 'fight', 'finesse', 'fire', 'first', 'flex', 'flow', 'flower', 'fly', 'forever', 'freak', 'free', 'freestyle', 'friend', 'fuck', 'game', 'gangsta', 'get', 'girl', 'glory', 'glover', 'glow', 'go', 'god', 'gold', 'gon', 'good', 'good life', 'gorgeous', 'got', 'got ta', 'greatest', 'gucci', 'gun', 'guy', 'hallelujah', 'hand', 'happy', 'hate', 'head', 'heart', 'heaven', 'hell', 'help', 'hey', 'high', 'hill', 'hit', 'hold', 'holy', 'hood', 'hopsin', 'hot', 'hour', 'house', 'hurt', 'ice', 'ii', 'ill', 'ill mind', 'im', 'im one', 'im steppin', 'interlude', 'issue', 'jam', 'jay', 'jealous', 'jesus', 'juice', 'jungle', 'keep', 'key', 'kick', 'kid', 'kill', 'kill vibe', 'killing', 'king', 'king dead', 'kiss', 'know', 'la', 'last', 'legend', 'leone', 'let', 'let go', 'let love', 'lie', 'life', 'life go', 'light', 'light low', 'like', 'like dat', 'limit', 'live', 'london', 'lonely', 'look', 'lose', 'lost', 'loud', 'love', 'love like', 'lover', 'lovesick', 'low', 'loyal', 'lucky', 'lust', 'mad', 'made', 'magic', 'make', 'make dance', 'mama', 'man', 'matter', 'mean', 'medicine', 'mercy', 'middle', 'mind', 'mind hopsin', 'mine', 'mirror', 'miss', 'mo', 'molly', 'money', 'monster', 'morning', 'much', 'murder', 'music', 'na', 'na know', 'name', 'need', 'never', 'new', 'next', 'nigga', 'night', 'nightmare', 'nobody', 'nothing', 'numb', 'ocean', 'old', 'one', 'outside', 'outta', 'paint', 'paradise', 'paris', 'part', 'part ii', 'peace', 'people', 'perfect', 'phone', 'pill', 'pink', 'pop', 'pop style', 'power', 'pray', 'pressure', 'privilege', 'problem', 'promise', 'psycho', 'pt', 'pull', 'purple', 'queen', 'question', 'rain', 'rap', 'ready', 'real', 'really', 'reason', 'red', 'remember', 'remix', 'rich', 'rico', 'ride', 'right', 'ring', 'road', 'rock', 'rockstar', 'roll', 'rollin', 'rose', 'run', 'runaway', 'said', 'save', 'say', 'say something', 'scar', 'see', 'sex', 'shit', 'shot', 'show', 'side', 'sierra', 'sierra leone', 'sign', 'sister', 'sky', 'smoke', 'sober', 'somebody', 'something', 'song', 'sorry', 'sorry sorry', 'soulja', 'space', 'spanish', 'star', 'stargazing', 'state', 'state mind', 'stay', 'step', 'steppin', 'steppin stone', 'stick', 'still', 'stone', 'stop', 'storm', 'story', 'story tonight', 'street', 'stronger', 'style', 'summer', 'summertime', 'sun', 'sunday', 'super', 'sweet', 'ta', 'take', 'talk', 'team', 'tear', 'tell', 'ten', 'thief', 'thing', 'think', 'thought', 'thug', 'tie', 'time', 'today', 'together', 'tonight', 'town', 'trap', 'treat', 'try', 'type', 'uoeno', 'uptown', 'used', 'versace', 'version', 'vibe', 'vu', 'waiting', 'wake', 'walk', 'walker', 'wall', 'wan', 'wan na', 'want', 'watch', 'water', 'way', 'way back', 'way life', 'well', 'white', 'wicked', 'wicked game', 'wild', 'wire', 'wish', 'without', 'wolf', 'woman', 'wont', 'work', 'world', 'worst', 'would', 'wrong', 'xo', 'xxx', 'ya', 'ye', 'year', 'young', 'youve', 'zone']\n"
     ]
    },
    {
     "name": "stdout",
     "output_type": "stream",
     "text": [
      "Train Data Shape:  (1617, 43950)\n",
      "Test Data Shape:  (405, 43950)\n"
     ]
    }
   ],
   "source": [
    "#FEATURE EXTRACTION\n",
    "C_vec = CountVectorizer(max_df = 0.5,min_df = 2,ngram_range = (1,2))\n",
    "trainX1 = C_vec.fit_transform(lyric_train_sub).toarray()\n",
    "testX1 = C_vec.transform(lyric_test_sub).toarray()\n",
    "# print(C_vec.get_feature_names())\n",
    "\n",
    "C_vec = CountVectorizer(ngram_range = (1,3))\n",
    "trainX2 = C_vec.fit_transform(artist_train_sub).toarray()\n",
    "testX2 = C_vec.transform(artist_test_sub).toarray()\n",
    "print(C_vec.get_feature_names())\n",
    "\n",
    "C_vec = CountVectorizer(max_df = 0.5,min_df = 2,ngram_range = (1,2))\n",
    "trainX3 = C_vec.fit_transform(song_title_train_sub).toarray()\n",
    "testX3 = C_vec.transform(song_title_test_sub).toarray()\n",
    "print(C_vec.get_feature_names())\n",
    "\n",
    "lyric_train = np.hstack((trainX1,trainX2,trainX3,feat_add_train))\n",
    "lyric_test = np.hstack((testX1,testX2,testX3,feat_add_test))\n",
    "\n",
    "\n",
    "#Final feature : lyric_train\n",
    "print(\"Train Data Shape: \",np.shape(lyric_train))\n",
    "print(\"Test Data Shape: \",np.shape(lyric_test))\n"
   ]
  },
  {
   "cell_type": "markdown",
   "metadata": {},
   "source": [
    "#### Tfidf Approach"
   ]
  },
  {
   "cell_type": "code",
   "execution_count": 7,
   "metadata": {},
   "outputs": [
    {
     "name": "stdout",
     "output_type": "stream",
     "text": [
      "Train Data Shape:  (1617, 24704)\n",
      "Test Data Shape:  (405, 24704)\n"
     ]
    }
   ],
   "source": [
    "#FEATURE EXTRACTION\n",
    "T_vec = TfidfVectorizer(max_df = 0.5,min_df = 1,ngram_range = (1,2))\n",
    "trainX1_tf = T_vec.fit_transform(lyric_train_sub).toarray()\n",
    "testX1_tf = T_vec.transform(lyric_test_sub).toarray()\n",
    "\n",
    "T_vec = TfidfVectorizer(ngram_range = (1,2))\n",
    "trainX2_tf = T_vec.fit_transform(artist_train_sub).toarray()\n",
    "testX2_tf = T_vec.transform(artist_test_sub).toarray()\n",
    "\n",
    "\n",
    "T_vec = TfidfVectorizer(max_df = 0.5,min_df = 1,ngram_range = (1,2))\n",
    "trainX3_tf = T_vec.fit_transform(song_title_train_sub).toarray()\n",
    "testX3_tf = T_vec.transform(song_title_test_sub).toarray()\n",
    "\n",
    "lyric_train = np.hstack((trainX1_tf,trainX2_tf,trainX3_tf,feat_add_train))\n",
    "lyric_test = np.hstack((testX1_tf,testX2_tf,testX3_tf,feat_add_test))\n",
    "\n",
    "\n",
    "#Final feature : lyric_train\n",
    "print(\"Train Data Shape: \",np.shape(lyric_train))\n",
    "print(\"Test Data Shape: \",np.shape(lyric_test))\n"
   ]
  },
  {
   "cell_type": "markdown",
   "metadata": {},
   "source": [
    "# CLASSIFIERS"
   ]
  },
  {
   "cell_type": "markdown",
   "metadata": {},
   "source": [
    "### Multinomial Naive Bayes"
   ]
  },
  {
   "cell_type": "code",
   "execution_count": 28,
   "metadata": {},
   "outputs": [],
   "source": [
    "n_class1=0\n",
    "n_class2=0\n",
    "n_class3=0\n",
    "\n",
    "for i in lyric_train_label:\n",
    "    if(i==0):\n",
    "        n_class1+=1\n",
    "    elif(i==1):\n",
    "        n_class2+=1\n",
    "    else:\n",
    "        n_class3+=1\n",
    "p1 = n_class1/(n_class1+n_class2+n_class3)\n",
    "p2 = n_class2/(n_class1+n_class2+n_class3)\n",
    "p3 = n_class3/(n_class1+n_class2+n_class3)\n",
    "p = np.array([p1,p2,p3])\n",
    "nb_g = MultinomialNB(class_prior = p)"
   ]
  },
  {
   "cell_type": "markdown",
   "metadata": {},
   "source": [
    "### Support Vector Machines"
   ]
  },
  {
   "cell_type": "code",
   "execution_count": 29,
   "metadata": {},
   "outputs": [],
   "source": [
    "parameters_svm = {'kernel':('sigmoid','rbf'),'C':[1,10]}\n",
    "svm = SVC()"
   ]
  },
  {
   "cell_type": "markdown",
   "metadata": {},
   "source": [
    "### Random Forest"
   ]
  },
  {
   "cell_type": "code",
   "execution_count": 30,
   "metadata": {},
   "outputs": [],
   "source": [
    "n_est = np.arange(1,31,1)\n",
    "parameters_rf = {'n_estimators':n_est,'max_depth':[4,20,80,None]}\n",
    "rfc = RandomForestClassifier()"
   ]
  },
  {
   "cell_type": "markdown",
   "metadata": {},
   "source": [
    "### Logistical Regression"
   ]
  },
  {
   "cell_type": "code",
   "execution_count": 31,
   "metadata": {},
   "outputs": [],
   "source": [
    "parameter_lr = {'C': [0.001,0.01,1,100,1000],'penalty':('l1','l2')}\n",
    "lr = LogisticRegression(multi_class = 'ovr')"
   ]
  },
  {
   "cell_type": "code",
   "execution_count": 32,
   "metadata": {},
   "outputs": [],
   "source": [
    "models = [nb_g,svm,rfc,lr]\n",
    "parameters = [p,parameters_svm,parameters_rf,parameter_lr]\n",
    "model_name = ['Naive Bayes','SVM','Random Forest','Logistical Regression']"
   ]
  },
  {
   "cell_type": "markdown",
   "metadata": {},
   "source": [
    "### Classifiers Implementation and Evaluation"
   ]
  },
  {
   "cell_type": "code",
   "execution_count": 33,
   "metadata": {},
   "outputs": [
    {
     "name": "stdout",
     "output_type": "stream",
     "text": [
      "Naive Bayes\n"
     ]
    },
    {
     "data": {
      "image/png": "[encoded data removed]",
      "text/plain": [
       "<Figure size 432x288 with 2 Axes>"
      ]
     },
     "metadata": {},
     "output_type": "display_data"
    },
    {
     "name": "stdout",
     "output_type": "stream",
     "text": [
      "             precision    recall  f1-score   support\n",
      "\n",
      "    class 0       0.61      0.57      0.59       105\n",
      "    class 1       0.58      0.51      0.54       174\n",
      "    class 2       0.50      0.61      0.55       126\n",
      "\n",
      "avg / total       0.56      0.56      0.56       405\n",
      "\n",
      "Train Accuracy:  0.9715522572665429 \t Test Accuracy:  0.5580246913580247\n",
      "Train Precision:  0.9719444118321414 \t Test Precision:  0.5644783165791569\n",
      "Train Recall:  0.9721080504141053 \t Test Recall:  0.5646779784710819\n",
      "Train F1 Score:  0.9715601802739428 \t Test F1 Score:  0.5619290859734171\n",
      "\n",
      "SVM\n"
     ]
    },
    {
     "data": {
      "image/png": "[encoded data removed]",
      "text/plain": [
       "<Figure size 432x288 with 2 Axes>"
      ]
     },
     "metadata": {},
     "output_type": "display_data"
    },
    {
     "name": "stdout",
     "output_type": "stream",
     "text": [
      "             precision    recall  f1-score   support\n",
      "\n",
      "    class 0       0.66      0.41      0.51       105\n",
      "    class 1       0.54      0.55      0.54       174\n",
      "    class 2       0.46      0.60      0.52       126\n",
      "\n",
      "avg / total       0.55      0.53      0.53       405\n",
      "\n",
      "Train Accuracy:  0.7786023500309215 \t Test Accuracy:  0.5259259259259259\n",
      "Train Precision:  0.7973458810692854 \t Test Precision:  0.5528760873273069\n",
      "Train Recall:  0.7677525650581848 \t Test Recall:  0.5169129720853859\n",
      "Train F1 Score:  0.7710541714394932 \t Test F1 Score:  0.5219936250362213\n",
      "\n",
      "Random Forest\n"
     ]
    },
    {
     "data": {
      "image/png": "[encoded data removed]",
      "text/plain": [
       "<Figure size 432x288 with 2 Axes>"
      ]
     },
     "metadata": {},
     "output_type": "display_data"
    },
    {
     "name": "stdout",
     "output_type": "stream",
     "text": [
      "             precision    recall  f1-score   support\n",
      "\n",
      "    class 0       0.61      0.32      0.42       105\n",
      "    class 1       0.52      0.70      0.60       174\n",
      "    class 2       0.50      0.45      0.47       126\n",
      "\n",
      "avg / total       0.54      0.53      0.51       405\n",
      "\n",
      "Train Accuracy:  0.9987631416202845 \t Test Accuracy:  0.5259259259259259\n",
      "Train Precision:  0.9987699876998771 \t Test Precision:  0.541387517474474\n",
      "Train Recall:  0.9987125787155912 \t Test Recall:  0.49244663382594417\n",
      "Train F1 Score:  0.9987395003411158 \t Test F1 Score:  0.4978095032588777\n",
      "\n",
      "Logistical Regression\n"
     ]
    },
    {
     "data": {
      "image/png": "[encoded data removed]",
      "text/plain": [
       "<Figure size 432x288 with 2 Axes>"
      ]
     },
     "metadata": {},
     "output_type": "display_data"
    },
    {
     "name": "stdout",
     "output_type": "stream",
     "text": [
      "             precision    recall  f1-score   support\n",
      "\n",
      "    class 0       0.65      0.51      0.57       105\n",
      "    class 1       0.57      0.63      0.60       174\n",
      "    class 2       0.52      0.53      0.52       126\n",
      "\n",
      "avg / total       0.58      0.57      0.57       405\n",
      "\n",
      "Train Accuracy:  0.8311688311688312 \t Test Accuracy:  0.5703703703703704\n",
      "Train Precision:  0.8366085680766183 \t Test Precision:  0.579634563896612\n",
      "Train Recall:  0.8214507080440742 \t Test Recall:  0.5594052180259076\n",
      "Train F1 Score:  0.8261707829880943 \t Test F1 Score:  0.5663328270937488\n",
      "\n"
     ]
    }
   ],
   "source": [
    "Accuracy_val = []\n",
    "Precision_val = []\n",
    "Recall_val =[]\n",
    "F1_score = []\n",
    "for i in range(0,len(models)):\n",
    "    print(model_name[i])\n",
    "    if(i==0):\n",
    "        clf = models[i]\n",
    "    else:\n",
    "        clf = GridSearchCV(models[i],parameters[i],cv=5)\n",
    "    clf.fit(lyric_train,lyric_train_label)\n",
    "    lyric_train_label_predict = clf.predict(lyric_train)\n",
    "    lyric_test_label_predict = clf.predict(lyric_test)\n",
    "    \n",
    "    plt.figure\n",
    "    #Compute Confusion Matrix\n",
    "    cnf_matrix = confusion_matrix(lyric_test_label, lyric_test_label_predict)\n",
    "    plt.imshow(cnf_matrix, interpolation='nearest',cmap=plt.cm.Blues)\n",
    "    plt.title('Confusion Matrix')\n",
    "    thresh = cnf_matrix.max() / 2.\n",
    "    plt.colorbar()\n",
    "    for i, j in itertools.product(range(cnf_matrix.shape[0]), range(cnf_matrix.shape[1])):\n",
    "        plt.text(j, i, format(cnf_matrix[i, j], 'd'),horizontalalignment=\"center\",color=\"white\" if cnf_matrix[i, j] > thresh else \"black\")\n",
    "\n",
    "    plt.ylabel('True label')\n",
    "    plt.xlabel('Predicted label')\n",
    "    plt.tight_layout()\n",
    "\n",
    "    plt.show()\n",
    "    \n",
    "    #Classification Report\n",
    "    target_names = ['class 0', 'class 1', 'class 2']\n",
    "    print(classification_report(lyric_test_label, lyric_test_label_predict, target_names=target_names))\n",
    "    \n",
    "    #Accuracy, Precision, Recall, F1score\n",
    "    accuracy_train = accuracy_score(lyric_train_label,lyric_train_label_predict)\n",
    "    accuracy_test = accuracy_score(lyric_test_label,lyric_test_label_predict)\n",
    "    print(\"Train Accuracy: \",accuracy_train,'\\t',\"Test Accuracy: \",accuracy_test)\n",
    "    \n",
    "    precision_train= precision_score(lyric_train_label,lyric_train_label_predict,average = 'macro')\n",
    "    precision_test =  precision_score(lyric_test_label,lyric_test_label_predict,average = 'macro')\n",
    "    print(\"Train Precision: \",precision_train,'\\t',\"Test Precision: \",precision_test)\n",
    "    \n",
    "    recall_train= recall_score(lyric_train_label,lyric_train_label_predict,average = 'macro')\n",
    "    recall_test =  recall_score(lyric_test_label,lyric_test_label_predict,average = 'macro')    \n",
    "    print(\"Train Recall: \",recall_train,'\\t',\"Test Recall: \",recall_test) \n",
    "    \n",
    "    f1_train = f1_score(lyric_train_label,lyric_train_label_predict,average = 'macro')\n",
    "    f1_test = f1_score(lyric_test_label,lyric_test_label_predict,average = 'macro')\n",
    "    print(\"Train F1 Score: \",f1_train,'\\t',\"Test F1 Score: \",f1_test)\n",
    "    \n",
    "    Accuracy_val.append(accuracy_test)\n",
    "    Precision_val.append(precision_test)\n",
    "    Recall_val.append(recall_test)\n",
    "    F1_score.append(f1_test)\n",
    "    print()\n",
    "\n",
    " \n",
    "    "
   ]
  },
  {
   "cell_type": "code",
   "execution_count": 34,
   "metadata": {},
   "outputs": [
    {
     "data": {
      "image/png": "[encoded data removed]",
      "text/plain": [
       "<Figure size 432x288 with 1 Axes>"
      ]
     },
     "metadata": {},
     "output_type": "display_data"
    },
    {
     "data": {
      "image/png": "[encoded data removed]",
      "text/plain": [
       "<Figure size 432x288 with 1 Axes>"
      ]
     },
     "metadata": {},
     "output_type": "display_data"
    },
    {
     "data": {
      "image/png": "[encoded data removed]",
      "text/plain": [
       "<Figure size 432x288 with 1 Axes>"
      ]
     },
     "metadata": {},
     "output_type": "display_data"
    },
    {
     "data": {
      "image/png": "[encoded data removed]",
      "text/plain": [
       "<Figure size 432x288 with 1 Axes>"
      ]
     },
     "metadata": {},
     "output_type": "display_data"
    }
   ],
   "source": [
    "plt.figure\n",
    "plt.bar(model_name,Accuracy_val)\n",
    "plt.show()\n",
    "plt.figure\n",
    "plt.bar(model_name,Precision_val)\n",
    "plt.show()\n",
    "plt.figure\n",
    "plt.bar(model_name,Recall_val)\n",
    "plt.show()\n",
    "plt.figure\n",
    "plt.bar(model_name,F1_score)\n",
    "plt.show()"
   ]
  },
  {
   "cell_type": "markdown",
   "metadata": {},
   "source": [
    "### Convolutional Neural Network"
   ]
  },
  {
   "cell_type": "code",
   "execution_count": null,
   "metadata": {},
   "outputs": [],
   "source": [
    "import keras\n",
    "from keras.utils import to_categorical\n",
    "import tensorflow as tf\n",
    "from keras.models import Sequential\n",
    "from keras.layers import Dense,Dropout, Activation,Flatten\n",
    "from keras.layers import Conv1D,MaxPooling1D\n",
    "from keras import optimizers\n",
    "from keras.callbacks import LearningRateScheduler\n",
    "\n",
    "\n",
    "feat_train = lyric_train.astype('float32')\n",
    "feat_test = lyric_test.astype('float32')\n",
    "label_train = to_categorical(lyric_train_label,3)\n",
    "label_test = to_categorical(lyric_test_label,3)\n",
    "feat_train_shape = feat_train.shape\n",
    "feat_test_shape = feat_test.shape\n",
    "print(feat_train_shape,len(feat_train))\n",
    "print(feat_test_shape)\n",
    "print(label_train.shape)\n",
    "print(label_test.shape)\n",
    "\n",
    "# nb_features = int(feat_train_shape[1]/3)\n",
    "# # number of features per features type (shape, texture, margin)   \n",
    "# classes = [0,1,2]\n",
    "# nb_class = 3\n",
    "\n",
    "\n",
    "feat_train = feat_train.reshape(feat_train.shape[0],6359,7).astype('float32')\n",
    "feat_test = feat_test.reshape(feat_test.shape[0],6359,7).astype('float32')\n",
    "\n",
    "model = Sequential()\n",
    "model.add(Conv1D(filters=64, kernel_size=10, input_shape=(6359,7),activation='relu'))\n",
    "model.add(MaxPooling1D(pool_size=5 ))\n",
    "model.add(Conv1D(filters =64, kernel_size = 8,padding='valid', activation='relu', use_bias=True))\n",
    "model.add(MaxPooling1D(pool_size=2))\n",
    "model.add(Flatten())\n",
    "model.add(Dense(1000, activation='relu',use_bias=True))\n",
    "model.add(Dropout(0.5))\n",
    "model.add(Dense(80, activation='relu', use_bias=True))\n",
    "model.add(Dense(3, activation='softmax'))\n",
    "learning_rate = 0.05\n",
    "decay_rate = learning_rate / 100\n",
    "momentum = 0.8\n",
    "sgd = optimizers.SGD(lr = learning_rate,momentum = momentum,decay=decay_rate)\n",
    "model.compile(loss='categorical_crossentropy',optimizer= sgd,metrics=['accuracy'])\n",
    "\n",
    "history = model.fit(feat_train,label_train,epochs = 30, verbose = 2,validation_data = (feat_test,label_test))\n",
    "performance = model.evaluate(feat_test,label_test,verbose = 0)\n",
    "print('Test Loss:', performance[0])\n",
    "print('Test Accuracy: ', performance[1])\n",
    "performance = model.evaluate(feat_train,label_train,verbose = 0)\n",
    "print('Train Loss:', performance[0])\n",
    "print('Train Accuracy: ', performance[1])\n",
    "\n",
    "# summarize history for accuracy\n",
    "plt.plot(history.history['acc'])\n",
    "plt.plot(history.history['val_acc'])\n",
    "plt.title('model accuracy')\n",
    "plt.ylabel('accuracy')\n",
    "plt.xlabel('epoch')\n",
    "plt.legend(['train', 'test'], loc='upper left')\n",
    "plt.show()\n",
    "# summarize history for loss\n",
    "plt.plot(history.history['loss'])\n",
    "plt.plot(history.history['val_loss'])\n",
    "plt.title('model loss')\n",
    "plt.ylabel('loss')\n",
    "plt.xlabel('epoch')\n",
    "plt.legend(['train', 'test'], loc='upper left')\n",
    "plt.show()"
   ]
  }
 ],
 "metadata": {
  "kernelspec": {
   "display_name": "Python 3",
   "language": "python",
   "name": "python3"
  },
  "language_info": {
   "codemirror_mode": {
    "name": "ipython",
    "version": 3
   },
   "file_extension": ".py",
   "mimetype": "text/x-python",
   "name": "python",
   "nbconvert_exporter": "python",
   "pygments_lexer": "ipython3",
   "version": "3.6.5"
  }
 },
 "nbformat": 4,
 "nbformat_minor": 2
}
